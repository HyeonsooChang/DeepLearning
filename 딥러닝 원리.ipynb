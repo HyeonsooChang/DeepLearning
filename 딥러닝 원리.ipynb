{
 "cells": [
  {
   "cell_type": "markdown",
   "id": "4a7dc9ce",
   "metadata": {},
   "source": [
    "# 딥러닝의 원리"
   ]
  },
  {
   "cell_type": "markdown",
   "id": "2d285b0d",
   "metadata": {},
   "source": [
    "딥러닝도 '노가다'로 학습하고 있다.\n",
    "그러나 사람보다 빠르게 할 수 있게 때문에 노가다의 끝이다.\n",
    "\n",
    "그럼 언제 계산을 멈출 수 있나?\n",
    "\n",
    "어떤 것이 좋은 함수인가?\n",
    "\n",
    "찾는다며 어떻게 찾을 수 있는가?\n",
    "\n",
    "*아이디어\n",
    "- 나쁨/틀림(wrongness)를 정의\n",
    "- Wrongness를 최소화하는 전략\n",
    "- Cost/Loss function을 통해 최소화 하자.\n",
    "\n",
    "주어진 함수의 예측(y)와 주어진 학습셋의 y의 차이를 최소화하는 방향으로 나아간다"
   ]
  },
  {
   "cell_type": "markdown",
   "id": "19e3eb28",
   "metadata": {},
   "source": [
    "# 비용함수(Cost Function)\n",
    "\n",
    "- 주어진 함수의 예측(y') - 학습셋 (y)의 제곱을 함으로써 0에 가까울수록 좋은 함수라고 판단한다\n",
    "\n"
   ]
  },
  {
   "cell_type": "markdown",
   "id": "e5b028ea",
   "metadata": {},
   "source": [
    "# 경사하강법\n",
    "\n",
    "- 어떤 공간 임의의 위치에서 주어진 축에 대해 더 작은 위치로 내려가려면?\n",
    "- 미분으로 접근하자."
   ]
  },
  {
   "cell_type": "code",
   "execution_count": null,
   "id": "590c9595",
   "metadata": {},
   "outputs": [],
   "source": []
  }
 ],
 "metadata": {
  "kernelspec": {
   "display_name": "python3_7_6",
   "language": "python",
   "name": "py3_7_6"
  },
  "language_info": {
   "codemirror_mode": {
    "name": "ipython",
    "version": 3
   },
   "file_extension": ".py",
   "mimetype": "text/x-python",
   "name": "python",
   "nbconvert_exporter": "python",
   "pygments_lexer": "ipython3",
   "version": "3.8.8"
  },
  "vp": {
   "base_numbering": 1,
   "nav_menu": {},
   "number_sections": true,
   "sideBar": true,
   "title_cell": "VisualPython",
   "title_sidebar": "VisualPython",
   "vpPosition": {
    "height": "calc(100% - 180px)",
    "right": "10px",
    "top": "110px",
    "width": "50%"
   },
   "vp_cell": false,
   "vp_section_display": true,
   "vp_window_display": false
  }
 },
 "nbformat": 4,
 "nbformat_minor": 5
}
