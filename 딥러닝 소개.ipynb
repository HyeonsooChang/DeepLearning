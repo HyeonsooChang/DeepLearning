{
 "cells": [
  {
   "cell_type": "markdown",
   "id": "d9e6b4b1",
   "metadata": {},
   "source": [
    "# 딥러닝의 원리"
   ]
  },
  {
   "cell_type": "markdown",
   "id": "ad0353e8",
   "metadata": {},
   "source": [
    "* ML의 정의\n",
    "    - 주어진 데이터나 과거 용례를 통하여 문제에 대한 해결 성능을 최대화화는 것\n",
    "\n",
    "* Role of Statistics\n",
    "    - inference from samples (샘플에 대한 예측)\n",
    " \n",
    "* Role of Computer Science\n",
    "    - 최적화 문제 해결\n",
    "    - 추론을 위한 모델을 구성하고 평가"
   ]
  },
  {
   "cell_type": "markdown",
   "id": "9e31d42c",
   "metadata": {},
   "source": [
    "### 딥러닝의 문제 : \n",
    "\n",
    "추상적 형태를 컴퓨터가 알고 있는 방법으로 어떻게 나타낼까?\n",
    "\n",
    "- 딥러닝은 해당되는 네트워크(모델)을 정의하고 네트워크에 정답을 줌으로써, 그림을 모델에 넣고 이 정답이 되게끔 계속 학습하는 원리"
   ]
  },
  {
   "cell_type": "markdown",
   "id": "02425a4c",
   "metadata": {},
   "source": [
    "# 딥러닝이 주로 다루는 문제들"
   ]
  },
  {
   "cell_type": "markdown",
   "id": "e64b3496",
   "metadata": {},
   "source": [
    "- Association Rule Mining\n",
    "- 지도 학습\n",
    "    - 분류\n",
    "    - 회귀\n",
    "    \n",
    "- 비지도 학습\n",
    "    - 클러스터링\n",
    "    - 차원 축소\n",
    "    - 특징 추출\n",
    "\n",
    "- 강화 학습"
   ]
  },
  {
   "cell_type": "markdown",
   "id": "f3bde52f",
   "metadata": {},
   "source": [
    "- 지도 학습\n",
    "\n",
    "1. 학습 셋(training se)이 주어짐\n",
    "2. 학습셋은 정답이 Labelled 되어 있음\n",
    "3. 주어진 학습셋을 근거로 학습  (yes or no)\n",
    "4. 새로운 데이터가 들어오면 정답을 예측"
   ]
  },
  {
   "cell_type": "markdown",
   "id": "8f630982",
   "metadata": {},
   "source": [
    "- 비지도 학습\n",
    "\n",
    "1. 데이터가 주어짐 (정답이 존재하건 안하건 상관 없음)\n",
    "2. 학습셋은 정답이 Labelled 되어 있음 (되어있을 수도 있고 없을 수도 있음)\n",
    "3. 주어진 데이터의 정보를 활용, 패턴을 추출하거나 관계를 구성\n",
    "4. 명확하게 정해진 정답은 없음 (기준, 파라미터에 따라 정답이 달라질 수 있음)"
   ]
  },
  {
   "cell_type": "markdown",
   "id": "4f753be3",
   "metadata": {},
   "source": [
    "- Reinforecement Learning\n",
    "\n",
    "1. 비지도 학습의 일종\n",
    "2. 그러나 정해진 데이터에 의해 학습되어지는 것이 아님\n",
    "3. 보상/벌점의 개념을 모델링\n",
    "4. 그 후 모델의 행위에 맞게 일어나는 경험을 학습"
   ]
  },
  {
   "cell_type": "code",
   "execution_count": null,
   "id": "a7e1551b",
   "metadata": {},
   "outputs": [],
   "source": []
  }
 ],
 "metadata": {
  "kernelspec": {
   "display_name": "Python 3",
   "language": "python",
   "name": "python3"
  },
  "language_info": {
   "codemirror_mode": {
    "name": "ipython",
    "version": 3
   },
   "file_extension": ".py",
   "mimetype": "text/x-python",
   "name": "python",
   "nbconvert_exporter": "python",
   "pygments_lexer": "ipython3",
   "version": "3.8.8"
  },
  "vp": {
   "base_numbering": 1,
   "nav_menu": {},
   "number_sections": true,
   "sideBar": true,
   "title_cell": "VisualPython",
   "title_sidebar": "VisualPython",
   "vpPosition": {
    "height": "calc(100% - 180px)",
    "right": "10px",
    "top": "110px",
    "width": "50%"
   },
   "vp_cell": false,
   "vp_section_display": true,
   "vp_window_display": false
  }
 },
 "nbformat": 4,
 "nbformat_minor": 5
}
